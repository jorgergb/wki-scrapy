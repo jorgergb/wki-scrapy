{
 "cells": [
  {
   "cell_type": "code",
   "execution_count": 1,
   "metadata": {},
   "outputs": [],
   "source": [
    "import pandas as pd\n",
    "import numpy as np"
   ]
  },
  {
   "cell_type": "code",
   "execution_count": 2,
   "metadata": {},
   "outputs": [],
   "source": [
    "df = pd.read_csv(\"wiki.csv\")\n",
    "df = pd.DataFrame(df.groupby(['topic'], as_index=False).apply(lambda x: x.sum()))\n",
    "df['text']=df['text'].astype('str')"
   ]
  },
  {
   "cell_type": "code",
   "execution_count": 3,
   "metadata": {},
   "outputs": [
    {
     "name": "stdout",
     "output_type": "stream",
     "text": [
      "<class 'pandas.core.series.Series'>\n"
     ]
    },
    {
     "data": {
      "text/html": [
       "<div>\n",
       "<style scoped>\n",
       "    .dataframe tbody tr th:only-of-type {\n",
       "        vertical-align: middle;\n",
       "    }\n",
       "\n",
       "    .dataframe tbody tr th {\n",
       "        vertical-align: top;\n",
       "    }\n",
       "\n",
       "    .dataframe thead th {\n",
       "        text-align: right;\n",
       "    }\n",
       "</style>\n",
       "<table border=\"1\" class=\"dataframe\">\n",
       "  <thead>\n",
       "    <tr style=\"text-align: right;\">\n",
       "      <th></th>\n",
       "      <th>text</th>\n",
       "      <th>topic</th>\n",
       "    </tr>\n",
       "  </thead>\n",
       "  <tbody>\n",
       "    <tr>\n",
       "      <th>0</th>\n",
       "      <td>Aquí se da una lista con los países que celebr...</td>\n",
       "      <td>&lt;200 https://es.wikipedia.org/wiki/Anexo:D%C3%...</td>\n",
       "    </tr>\n",
       "    <tr>\n",
       "      <th>1</th>\n",
       "      <td>El Gran Premio de Estiria de 2020 es la segund...</td>\n",
       "      <td>&lt;200 https://es.wikipedia.org/wiki/Anexo:Gran_...</td>\n",
       "    </tr>\n",
       "    <tr>\n",
       "      <th>2</th>\n",
       "      <td>Las Bahamas, oficialmente la Mancomunidad de L...</td>\n",
       "      <td>&lt;200 https://es.wikipedia.org/wiki/Bahamas&gt;&lt;20...</td>\n",
       "    </tr>\n",
       "    <tr>\n",
       "      <th>3</th>\n",
       "      <td>El Día Mundial de la Población es un evento an...</td>\n",
       "      <td>&lt;200 https://es.wikipedia.org/wiki/D%C3%ADa_Mu...</td>\n",
       "    </tr>\n",
       "    <tr>\n",
       "      <th>4</th>\n",
       "      <td>La Declaración de Independencia de la Argentin...</td>\n",
       "      <td>&lt;200 https://es.wikipedia.org/wiki/Declaraci%C...</td>\n",
       "    </tr>\n",
       "  </tbody>\n",
       "</table>\n",
       "</div>"
      ],
      "text/plain": [
       "                                                text  \\\n",
       "0  Aquí se da una lista con los países que celebr...   \n",
       "1  El Gran Premio de Estiria de 2020 es la segund...   \n",
       "2  Las Bahamas, oficialmente la Mancomunidad de L...   \n",
       "3  El Día Mundial de la Población es un evento an...   \n",
       "4  La Declaración de Independencia de la Argentin...   \n",
       "\n",
       "                                               topic  \n",
       "0  <200 https://es.wikipedia.org/wiki/Anexo:D%C3%...  \n",
       "1  <200 https://es.wikipedia.org/wiki/Anexo:Gran_...  \n",
       "2  <200 https://es.wikipedia.org/wiki/Bahamas><20...  \n",
       "3  <200 https://es.wikipedia.org/wiki/D%C3%ADa_Mu...  \n",
       "4  <200 https://es.wikipedia.org/wiki/Declaraci%C...  "
      ]
     },
     "execution_count": 3,
     "metadata": {},
     "output_type": "execute_result"
    }
   ],
   "source": [
    "print(type(df['text']))\n",
    "df.head()"
   ]
  },
  {
   "cell_type": "code",
   "execution_count": 16,
   "metadata": {},
   "outputs": [],
   "source": [
    "import re\n",
    "from collections import Counter\n",
    "df['text'] = df.apply(lambda x: x['text'].lower(), axis=1)\n",
    "df['tokens'] = df.apply(lambda x: re.split('\\W+',x['text']), axis=1)\n",
    "df['conteo'] = df.apply(lambda x: Counter(x['tokens']), axis=1)\n",
    "df['N'] = df.apply(lambda x: sum(x['conteo'].values()), axis=1)\n",
    "df['V'] = df.apply(lambda x: len(x['conteo']), axis=1)\n",
    "\n",
    "##df['num_words_title'] = df.apply(lambda x : len(x['Title'].split(\" \")),axis=1)"
   ]
  },
  {
   "cell_type": "code",
   "execution_count": 5,
   "metadata": {},
   "outputs": [
    {
     "data": {
      "text/plain": [
       "0    {'': 1, 'como': 2, 'lo': 8, 'día': 4, 'nótese'...\n",
       "1    {'': 1, 'inmediatamente': 2, 'austria': 4, 'do...\n",
       "2    {'': 1, 'practicados': 2, 'fuerte': 2, 'millas...\n",
       "3    {'madres': 2, 'ha': 4, 'inversiones': 2, 'aque...\n",
       "4    {'': 1, 'dispuso': 1, 'había': 3, 'podían': 1,...\n",
       "Name: conteo, dtype: object"
      ]
     },
     "execution_count": 5,
     "metadata": {},
     "output_type": "execute_result"
    }
   ],
   "source": [
    "df['conteo'].head()"
   ]
  },
  {
   "cell_type": "code",
   "execution_count": 6,
   "metadata": {},
   "outputs": [
    {
     "data": {
      "text/plain": [
       "131"
      ]
     },
     "execution_count": 6,
     "metadata": {},
     "output_type": "execute_result"
    }
   ],
   "source": [
    "cnt = df['conteo'][0]\n",
    "sum(cnt.values())\n",
    "sum(df['conteo'][0].values())"
   ]
  },
  {
   "cell_type": "code",
   "execution_count": 7,
   "metadata": {},
   "outputs": [
    {
     "name": "stdout",
     "output_type": "stream",
     "text": [
      "0     <200 https://es.wikipedia.org/wiki/Anexo:D%C3%...\n",
      "1     <200 https://es.wikipedia.org/wiki/Anexo:Gran_...\n",
      "2     <200 https://es.wikipedia.org/wiki/Bahamas><20...\n",
      "3     <200 https://es.wikipedia.org/wiki/D%C3%ADa_Mu...\n",
      "4     <200 https://es.wikipedia.org/wiki/Declaraci%C...\n",
      "5     <200 https://es.wikipedia.org/wiki/Elecciones_...\n",
      "6     <200 https://es.wikipedia.org/wiki/Elecciones_...\n",
      "7     <200 https://es.wikipedia.org/wiki/Elecciones_...\n",
      "8     <200 https://es.wikipedia.org/wiki/Kiribati><2...\n",
      "9     <200 https://es.wikipedia.org/wiki/Mongolia><2...\n",
      "10    <200 https://es.wikipedia.org/wiki/Palaos><200...\n",
      "11    <200 https://es.wikipedia.org/wiki/Pandemia_de...\n",
      "12    <200 https://es.wikipedia.org/wiki/Santo_Tom%C...\n",
      "13    <200 https://es.wikipedia.org/wiki/Sud%C3%A1n_...\n",
      "Name: topic, dtype: object\n"
     ]
    }
   ],
   "source": [
    "print(df['topic'])"
   ]
  },
  {
   "cell_type": "code",
   "execution_count": 8,
   "metadata": {},
   "outputs": [
    {
     "name": "stdout",
     "output_type": "stream",
     "text": [
      "aquí se da una lista con los países que celebran oficialmente el día de la independencia, con la respectiva fecha de cada uno y el evento que lo inspira. nótese que algunos de los estados representados nunca se independizaron (españa, reino unido, italia, japón, tailandia....) por lo que no tiene sentido ponerles un día específico de celebración como sí se lo haría de lo contrario.\n",
      "aquí se da una lista con los países que celebran oficialmente el día de la independencia, con la respectiva fecha de cada uno y el evento que lo inspira. nótese que algunos de los estados representados nunca se independizaron (españa, reino unido, italia, japón, tailandia....) por lo que no tiene sentido ponerles un día específico de celebración como sí se lo haría de lo contrario.\n",
      "\n"
     ]
    }
   ],
   "source": [
    "print(df['text'][0])"
   ]
  },
  {
   "cell_type": "code",
   "execution_count": 9,
   "metadata": {},
   "outputs": [
    {
     "data": {
      "text/html": [
       "<div>\n",
       "<style scoped>\n",
       "    .dataframe tbody tr th:only-of-type {\n",
       "        vertical-align: middle;\n",
       "    }\n",
       "\n",
       "    .dataframe tbody tr th {\n",
       "        vertical-align: top;\n",
       "    }\n",
       "\n",
       "    .dataframe thead th {\n",
       "        text-align: right;\n",
       "    }\n",
       "</style>\n",
       "<table border=\"1\" class=\"dataframe\">\n",
       "  <thead>\n",
       "    <tr style=\"text-align: right;\">\n",
       "      <th></th>\n",
       "      <th>text</th>\n",
       "      <th>topic</th>\n",
       "      <th>tokens</th>\n",
       "      <th>conteo</th>\n",
       "      <th>N</th>\n",
       "    </tr>\n",
       "  </thead>\n",
       "  <tbody>\n",
       "    <tr>\n",
       "      <th>0</th>\n",
       "      <td>aquí se da una lista con los países que celebr...</td>\n",
       "      <td>&lt;200 https://es.wikipedia.org/wiki/Anexo:D%C3%...</td>\n",
       "      <td>[aquí, se, da, una, lista, con, los, países, q...</td>\n",
       "      <td>{'': 1, 'como': 2, 'lo': 8, 'día': 4, 'nótese'...</td>\n",
       "      <td>131</td>\n",
       "    </tr>\n",
       "    <tr>\n",
       "      <th>1</th>\n",
       "      <td>el gran premio de estiria de 2020 es la segund...</td>\n",
       "      <td>&lt;200 https://es.wikipedia.org/wiki/Anexo:Gran_...</td>\n",
       "      <td>[el, gran, premio, de, estiria, de, 2020, es, ...</td>\n",
       "      <td>{'': 1, 'inmediatamente': 2, 'austria': 4, 'do...</td>\n",
       "      <td>369</td>\n",
       "    </tr>\n",
       "    <tr>\n",
       "      <th>2</th>\n",
       "      <td>las bahamas, oficialmente la mancomunidad de l...</td>\n",
       "      <td>&lt;200 https://es.wikipedia.org/wiki/Bahamas&gt;&lt;20...</td>\n",
       "      <td>[las, bahamas, oficialmente, la, mancomunidad,...</td>\n",
       "      <td>{'': 1, 'practicados': 2, 'fuerte': 2, 'millas...</td>\n",
       "      <td>4791</td>\n",
       "    </tr>\n",
       "    <tr>\n",
       "      <th>3</th>\n",
       "      <td>el día mundial de la población es un evento an...</td>\n",
       "      <td>&lt;200 https://es.wikipedia.org/wiki/D%C3%ADa_Mu...</td>\n",
       "      <td>[el, día, mundial, de, la, población, es, un, ...</td>\n",
       "      <td>{'madres': 2, 'ha': 4, 'inversiones': 2, 'aque...</td>\n",
       "      <td>1151</td>\n",
       "    </tr>\n",
       "    <tr>\n",
       "      <th>4</th>\n",
       "      <td>la declaración de independencia de la argentin...</td>\n",
       "      <td>&lt;200 https://es.wikipedia.org/wiki/Declaraci%C...</td>\n",
       "      <td>[la, declaración, de, independencia, de, la, a...</td>\n",
       "      <td>{'': 1, 'dispuso': 1, 'había': 3, 'podían': 1,...</td>\n",
       "      <td>1878</td>\n",
       "    </tr>\n",
       "  </tbody>\n",
       "</table>\n",
       "</div>"
      ],
      "text/plain": [
       "                                                text  \\\n",
       "0  aquí se da una lista con los países que celebr...   \n",
       "1  el gran premio de estiria de 2020 es la segund...   \n",
       "2  las bahamas, oficialmente la mancomunidad de l...   \n",
       "3  el día mundial de la población es un evento an...   \n",
       "4  la declaración de independencia de la argentin...   \n",
       "\n",
       "                                               topic  \\\n",
       "0  <200 https://es.wikipedia.org/wiki/Anexo:D%C3%...   \n",
       "1  <200 https://es.wikipedia.org/wiki/Anexo:Gran_...   \n",
       "2  <200 https://es.wikipedia.org/wiki/Bahamas><20...   \n",
       "3  <200 https://es.wikipedia.org/wiki/D%C3%ADa_Mu...   \n",
       "4  <200 https://es.wikipedia.org/wiki/Declaraci%C...   \n",
       "\n",
       "                                              tokens  \\\n",
       "0  [aquí, se, da, una, lista, con, los, países, q...   \n",
       "1  [el, gran, premio, de, estiria, de, 2020, es, ...   \n",
       "2  [las, bahamas, oficialmente, la, mancomunidad,...   \n",
       "3  [el, día, mundial, de, la, población, es, un, ...   \n",
       "4  [la, declaración, de, independencia, de, la, a...   \n",
       "\n",
       "                                              conteo     N  \n",
       "0  {'': 1, 'como': 2, 'lo': 8, 'día': 4, 'nótese'...   131  \n",
       "1  {'': 1, 'inmediatamente': 2, 'austria': 4, 'do...   369  \n",
       "2  {'': 1, 'practicados': 2, 'fuerte': 2, 'millas...  4791  \n",
       "3  {'madres': 2, 'ha': 4, 'inversiones': 2, 'aque...  1151  \n",
       "4  {'': 1, 'dispuso': 1, 'había': 3, 'podían': 1,...  1878  "
      ]
     },
     "execution_count": 9,
     "metadata": {},
     "output_type": "execute_result"
    }
   ],
   "source": [
    "df.head()"
   ]
  },
  {
   "cell_type": "code",
   "execution_count": 10,
   "metadata": {},
   "outputs": [
    {
     "data": {
      "text/plain": [
       "0      131\n",
       "1      369\n",
       "2     4791\n",
       "3     1151\n",
       "4     1878\n",
       "5     1435\n",
       "6     1031\n",
       "7      219\n",
       "8     2502\n",
       "9     7111\n",
       "10    4926\n",
       "11    5661\n",
       "12    2575\n",
       "13    4700\n",
       "Name: N, dtype: int64"
      ]
     },
     "execution_count": 10,
     "metadata": {},
     "output_type": "execute_result"
    }
   ],
   "source": [
    "df['N']"
   ]
  },
  {
   "cell_type": "code",
   "execution_count": 11,
   "metadata": {},
   "outputs": [
    {
     "data": {
      "text/plain": [
       "0    {'': 1, 'como': 2, 'lo': 8, 'día': 4, 'nótese'...\n",
       "1    {'': 1, 'inmediatamente': 2, 'austria': 4, 'do...\n",
       "2    {'': 1, 'practicados': 2, 'fuerte': 2, 'millas...\n",
       "3    {'madres': 2, 'ha': 4, 'inversiones': 2, 'aque...\n",
       "4    {'': 1, 'dispuso': 1, 'había': 3, 'podían': 1,...\n",
       "Name: conteo, dtype: object"
      ]
     },
     "execution_count": 11,
     "metadata": {},
     "output_type": "execute_result"
    }
   ],
   "source": [
    "df['conteo'].head()"
   ]
  },
  {
   "cell_type": "code",
   "execution_count": 13,
   "metadata": {},
   "outputs": [
    {
     "data": {
      "text/plain": [
       "collections.Counter"
      ]
     },
     "execution_count": 13,
     "metadata": {},
     "output_type": "execute_result"
    }
   ],
   "source": [
    "type(df['conteo'][0])"
   ]
  },
  {
   "cell_type": "code",
   "execution_count": 15,
   "metadata": {},
   "outputs": [
    {
     "data": {
      "text/plain": [
       "49"
      ]
     },
     "execution_count": 15,
     "metadata": {},
     "output_type": "execute_result"
    }
   ],
   "source": [
    "len(df['conteo'][0])"
   ]
  },
  {
   "cell_type": "code",
   "execution_count": 17,
   "metadata": {},
   "outputs": [],
   "source": [
    "import matplotlib.pyplot as plt\n",
    "%matplotlib inline"
   ]
  },
  {
   "cell_type": "code",
   "execution_count": 21,
   "metadata": {},
   "outputs": [
    {
     "data": {
      "text/plain": [
       "Text(0, 0.5, 'Vocabulario')"
      ]
     },
     "execution_count": 21,
     "metadata": {},
     "output_type": "execute_result"
    },
    {
     "data": {
      "image/png": "[encoded data removed]",
      "text/plain": [
       "<Figure size 432x288 with 1 Axes>"
      ]
     },
     "metadata": {},
     "output_type": "display_data"
    }
   ],
   "source": [
    "plt.scatter(df['N'],df['V'])\n",
    "plt.title('Tokens vs Vocabulario')\n",
    "plt.xlabel('Tokens')\n",
    "plt.ylabel('Vocabulario')\n"
   ]
  },
  {
   "cell_type": "code",
   "execution_count": null,
   "metadata": {},
   "outputs": [],
   "source": []
  }
 ],
 "metadata": {
  "kernelspec": {
   "display_name": "Python 3",
   "language": "python",
   "name": "python3"
  },
  "language_info": {
   "codemirror_mode": {
    "name": "ipython",
    "version": 3
   },
   "file_extension": ".py",
   "mimetype": "text/x-python",
   "name": "python",
   "nbconvert_exporter": "python",
   "pygments_lexer": "ipython3",
   "version": "3.5.5"
  }
 },
 "nbformat": 4,
 "nbformat_minor": 2
}
